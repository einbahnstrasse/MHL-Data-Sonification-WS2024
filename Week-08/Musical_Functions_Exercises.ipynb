{
 "cells": [
  {
   "cell_type": "markdown",
   "id": "e926a383",
   "metadata": {},
   "source": [
    "# Musical Functions Exercises\n",
    "This notebook contains 21 beginner Python exercises demonstrating function definitions, calls, and use of control structures like loops and conditionals. Each exercise is musical in nature, working with MIDI note numbers, durations, velocities, and other musical concepts."
   ]
  },
  {
   "cell_type": "markdown",
   "id": "014ddc75",
   "metadata": {},
   "source": [
    "## Exercise 1: Note Doubler\n",
    "Define a function `double_note` that takes a MIDI note number as input and returns the note an octave higher."
   ]
  },
  {
   "cell_type": "code",
   "execution_count": null,
   "id": "717fe6ea",
   "metadata": {},
   "outputs": [],
   "source": [
    "def double_note(midi_note):\n",
    "    return midi_note + 12\n",
    "\n",
    "# Example usage\n",
    "print(double_note(60))  # Output: 72"
   ]
  },
  {
   "cell_type": "markdown",
   "id": "86d89dd6",
   "metadata": {},
   "source": [
    "## Exercise 2: Note Velocity Check\n",
    "Define a function `is_loud` that takes a velocity value (1-127) as input and returns `True` if the velocity is greater than 100, otherwise `False`."
   ]
  },
  {
   "cell_type": "code",
   "execution_count": null,
   "id": "567e1278",
   "metadata": {},
   "outputs": [],
   "source": [
    "def is_loud(velocity):\n",
    "    return velocity > 100\n",
    "\n",
    "# Example usage\n",
    "print(is_loud(101))  # Output: True\n",
    "print(is_loud(50))   # Output: False"
   ]
  },
  {
   "cell_type": "markdown",
   "id": "9cf1f3c5",
   "metadata": {},
   "source": [
    "## Exercise 3: Scale Steps to MIDI Notes\n",
    "Define a function `scale_step_to_midi` that takes a root note and a scale step and returns the corresponding MIDI note in the major scale."
   ]
  },
  {
   "cell_type": "code",
   "execution_count": null,
   "id": "9444627d",
   "metadata": {},
   "outputs": [],
   "source": [
    "def scale_step_to_midi(root_note, scale_step):\n",
    "    major_scale_intervals = [0, 2, 4, 5, 7, 9, 11, 12]\n",
    "    return root_note + major_scale_intervals[scale_step - 1]\n",
    "\n",
    "# Example usage\n",
    "print(scale_step_to_midi(60, 3))  # Output: 64 (E in the C major scale)"
   ]
  },
  {
   "cell_type": "markdown",
   "id": "73e1bf82",
   "metadata": {},
   "source": [
    "## Exercise 21: Dynamic Expression Based on Velocity\n",
    "Define a function `dynamic_expression` that takes a velocity (1-127) as input and returns a dynamic marking based on the following conditions:\n",
    "\n",
    "- **Velocity 1-20:** Return \"pp\" (pianissimo)\n",
    "- **Velocity 21-50:** Return \"p\" (piano)\n",
    "- **Velocity 51-80:** Return \"mp\" (mezzo-piano)\n",
    "- **Velocity 81-110:** Return \"mf\" (mezzo-forte)\n",
    "- **Velocity 111-120:** Return \"f\" (forte)\n",
    "- **Velocity 121-127:** Return \"ff\" (fortissimo)\n",
    "\n",
    "If the velocity is outside the range 1-127, the function should return \"Invalid velocity\"."
   ]
  },
  {
   "cell_type": "code",
   "execution_count": null,
   "id": "1dbe1f9e",
   "metadata": {},
   "outputs": [],
   "source": [
    "def dynamic_expression(velocity):\n",
    "    if 1 <= velocity <= 20:\n",
    "        return \"pp\"  # Pianissimo\n",
    "    elif 21 <= velocity <= 50:\n",
    "        return \"p\"  # Piano\n",
    "    elif 51 <= velocity <= 80:\n",
    "        return \"mp\"  # Mezzo-piano\n",
    "    elif 81 <= velocity <= 110:\n",
    "        return \"mf\"  # Mezzo-forte\n",
    "    elif 111 <= velocity <= 120:\n",
    "        return \"f\"  # Forte\n",
    "    elif 121 <= velocity <= 127:\n",
    "        return \"ff\"  # Fortissimo\n",
    "    else:\n",
    "        return \"Invalid velocity\"  # For values outside the range 1-127\n",
    "\n",
    "# Example usage\n",
    "print(dynamic_expression(15))   # Output: \"pp\"\n",
    "print(dynamic_expression(45))   # Output: \"p\"\n",
    "print(dynamic_expression(75))   # Output: \"mp\"\n",
    "print(dynamic_expression(95))   # Output: \"mf\"\n",
    "print(dynamic_expression(115))  # Output: \"f\"\n",
    "print(dynamic_expression(125))  # Output: \"ff\"\n",
    "print(dynamic_expression(150))  # Output: \"Invalid velocity\""
   ]
  }
 ],
 "metadata": {
  "kernelspec": {
   "display_name": "Python 3 (ipykernel)",
   "language": "python",
   "name": "python3"
  },
  "language_info": {
   "codemirror_mode": {
    "name": "ipython",
    "version": 3
   },
   "file_extension": ".py",
   "mimetype": "text/x-python",
   "name": "python",
   "nbconvert_exporter": "python",
   "pygments_lexer": "ipython3",
   "version": "3.13.0"
  }
 },
 "nbformat": 4,
 "nbformat_minor": 5
}
