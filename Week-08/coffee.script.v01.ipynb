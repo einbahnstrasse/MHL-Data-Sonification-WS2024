{
 "cells": [
  {
   "cell_type": "markdown",
   "metadata": {},
   "source": [
    "# V60 Coffee Brew Data Processing | v01\n",
    "### _Maybe Your First Jupyter Notebook_ | by Dr. Louis Goldford (2024)$^{1}$\n",
    "\n",
    "This Jupyter Notebook processes coffee brew data from an Acaia Pearl coffee scale using its CSV file. The notebook **outputs a resampled text file**, especially formatted for a MaxMSP `<coll>` object, containing the following **columns** (i.e., values printed on each line):\n",
    "- Index\n",
    "- Time (in milliseconds) dummy!\n",
    "- Delta T (difference between successive \"frames,\" or time measurements, in milliseconds)\n",
    "- Total Weight of coffee & water (in grams)\n",
    "- Flow Rate of the kettle drip (grams/second)\n",
    "\n",
    "Unlike the Python scripts we have been making in VS Code, in Jupyter we can evaluate individual blocks of code, rather than evaluating the entire script at once (by running the script on the Terminal). We can also mix code with markdown instructions, and we can test blocks of code easily this way. \n",
    "\n",
    "To **evaluate** the code or markdown boxes in this notebook, simply click on a box and press `shift` + `enter`.\n",
    "\n",
    "_But first_... a helpful review of function definitions and calls in Python..."
   ]
  },
  {
   "cell_type": "markdown",
   "metadata": {},
   "source": [
    "## 1. What is a Function?"
   ]
  },
  {
   "cell_type": "markdown",
   "metadata": {},
   "source": [
    "Functions are **self contained modules of code** that accomplish a specific task. They usually 'take in' data as input, process it, and 'return' a result as output. We can use a programming language's built-in functions, such as `print()` or `prompt()` to process data, but we can also **define our own functions**. Doing so helps us work more efficiently by allowing us to **consolidate** and **recycle** our code. To make our own function, we must first _define_ it. To utilize that function in our programming, we must _call_ the function we first _defined_.\n",
    "\n",
    "For example, let's **define** a very simple function:"
   ]
  },
  {
   "cell_type": "code",
   "execution_count": 1,
   "metadata": {},
   "outputs": [],
   "source": [
    "def minorThird(note):\n",
    "    return note + 3;"
   ]
  },
  {
   "cell_type": "markdown",
   "metadata": {},
   "source": [
    "Here, we are telling Python what our function is and does, but not using it to process anything yet. The symbol `def` tells Python that we are defining a function. `minorThird` is the name we give to our function. The symbol `note` that we put inside the parens is a **parameter** of our function, meaning we are specifying a **placeholder** for one kind of **input data** we will later _pass into_ our function when it is **called** (that is, when the function is _used_). The symbol `return` gives us the **output** of the function. Here, we return the `note` data transposed up by 3 semitones, yielding a pitch interval of a minor third.\n",
    "\n",
    "Now, to **use** our function inside our program, let's **call** it:"
   ]
  },
  {
   "cell_type": "code",
   "execution_count": 2,
   "metadata": {},
   "outputs": [
    {
     "data": {
      "text/plain": [
       "63"
      ]
     },
     "execution_count": 2,
     "metadata": {},
     "output_type": "execute_result"
    }
   ],
   "source": [
    "minorThird(60)"
   ]
  },
  {
   "cell_type": "markdown",
   "metadata": {},
   "source": [
    "Evaluate the function call above and you will see the returned output here in the Notebook: `63`. \n",
    "\n",
    "This, above, is what a **function call** looks like. Think of it like a _phone call_ — the **definition** is like a phone number telling us where the function lives, and the **call** dials the phone number to the correct location. We only need to type the function's name with parens, `minorThird()`, and inside the parens we **pass** input data to the function for processing. The input data can be a _harcoded value_, like we typed here, or we can use _variables_ to pass _dynamically changing_ input. We can reference our function anywhere inside our code and as often as we want, **recycling its functionality** whenever we need it. We can write it on a single line as we've done above, or we can _place a call to our function_ inside a control loop, a conditional, or anywhere else!  \n",
    "\n",
    "The input **value** we pass here in the function _call_, which in this case is `60`, is known as an **argument** of the function. However, the **placeholder for input data** we made in the function _definition_ above is a **parameter**, which tells Python, \"Our function will have an input data point, called `note`. Expect a value here when the function is called.\" \n",
    "\n",
    "Okay, now that we understand what a function is, let's make some functions to process the coffee data..."
   ]
  },
  {
   "cell_type": "markdown",
   "metadata": {},
   "source": [
    "## 2. Import Required Libraries"
   ]
  },
  {
   "cell_type": "code",
   "execution_count": 3,
   "metadata": {},
   "outputs": [
    {
     "name": "stdout",
     "output_type": "stream",
     "text": [
      "/Users/louisgoldford/Desktop/myClasses/MHL-Data-Sonification-WS2024/Week-08/myenv/bin/python3\n",
      "/bin/bash: where: command not found\n"
     ]
    }
   ],
   "source": [
    "# Verify that Python is working inside your virtual environment once you have installed it. \n",
    "# !which is compatible with macOS. !where is compatible with Windows. \n",
    "\n",
    "!which python3\n",
    "!where python"
   ]
  },
  {
   "cell_type": "code",
   "execution_count": 4,
   "metadata": {},
   "outputs": [
    {
     "name": "stdout",
     "output_type": "stream",
     "text": [
      "Pandas version: 2.2.3\n",
      "Numpy version: 2.1.3\n"
     ]
    }
   ],
   "source": [
    "import pandas as pd\n",
    "import numpy as np\n",
    "\n",
    "print(\"Pandas version:\", pd.__version__)\n",
    "print(\"Numpy version:\", np.__version__)"
   ]
  },
  {
   "cell_type": "markdown",
   "metadata": {},
   "source": [
    "## 3. Specify User-Defined Input Options"
   ]
  },
  {
   "cell_type": "code",
   "execution_count": 5,
   "metadata": {},
   "outputs": [],
   "source": [
    "# Input CSV file path\n",
    "csv_file_path = \"/Users/louisgoldford/Desktop/myClasses/MHL-Data-Sonification-WS2024/Week-08/161188_brewmaster2_20241116141946_zKm2X0BDUi.csv\"\n",
    "\n",
    "# Output text file name\n",
    "output_filename = 'coffeeData_maxColl_v01.txt'\n",
    "\n",
    "# Other parameters\n",
    "row_index = 0  # Row index to process (each row of the CSV represents a different brew)\n",
    "resample_interval_ms = 50  # Resampling interval in milliseconds (by default, the brew is recorded every 200 milliseconds, but if we want more precession, we can use resample)"
   ]
  },
  {
   "cell_type": "markdown",
   "metadata": {},
   "source": [
    "## 4. Load the CSV File, Study the Pandas DataFrame"
   ]
  },
  {
   "cell_type": "code",
   "execution_count": 8,
   "metadata": {},
   "outputs": [
    {
     "name": "stdout",
     "output_type": "stream",
     "text": [
      "DataFrame loaded successfully:\n"
     ]
    },
    {
     "data": {
      "text/html": [
       "<div>\n",
       "<style scoped>\n",
       "    .dataframe tbody tr th:only-of-type {\n",
       "        vertical-align: middle;\n",
       "    }\n",
       "\n",
       "    .dataframe tbody tr th {\n",
       "        vertical-align: top;\n",
       "    }\n",
       "\n",
       "    .dataframe thead th {\n",
       "        text-align: right;\n",
       "    }\n",
       "</style>\n",
       "<table border=\"1\" class=\"dataframe\">\n",
       "  <thead>\n",
       "    <tr style=\"text-align: right;\">\n",
       "      <th></th>\n",
       "      <th>id</th>\n",
       "      <th>name</th>\n",
       "      <th>createdAt</th>\n",
       "      <th>temperature</th>\n",
       "      <th>grind</th>\n",
       "      <th>tasty</th>\n",
       "      <th>note</th>\n",
       "      <th>total time</th>\n",
       "      <th>average flowrate</th>\n",
       "      <th>total weight</th>\n",
       "      <th>brew data</th>\n",
       "    </tr>\n",
       "  </thead>\n",
       "  <tbody>\n",
       "    <tr>\n",
       "      <th>0</th>\n",
       "      <td>Z5Jq2aIggm</td>\n",
       "      <td>Louis Afternoon Hazelnut Roast 11/16</td>\n",
       "      <td>2024/11/16 14:04:11</td>\n",
       "      <td>99.944443</td>\n",
       "      <td>4.75</td>\n",
       "      <td>4</td>\n",
       "      <td>Many shakes of the cone, flat coffee bed at fi...</td>\n",
       "      <td>140</td>\n",
       "      <td>2.22</td>\n",
       "      <td>252.199997</td>\n",
       "      <td>0.00;6.10;11.80;12.80;14.90;17.50;18.50;20.60;...</td>\n",
       "    </tr>\n",
       "    <tr>\n",
       "      <th>1</th>\n",
       "      <td>IGZL6Mtfa7</td>\n",
       "      <td>Louis Morning Wien Roast 11/16</td>\n",
       "      <td>2024/11/16 08:08:44</td>\n",
       "      <td>99.944443</td>\n",
       "      <td>4.75</td>\n",
       "      <td>4</td>\n",
       "      <td>Flat coffee bed with shaking cone</td>\n",
       "      <td>134</td>\n",
       "      <td>2.34</td>\n",
       "      <td>280.000000</td>\n",
       "      <td>0.00;5.30;8.70;10.90;13.30;15.40;16.00;17.79;1...</td>\n",
       "    </tr>\n",
       "    <tr>\n",
       "      <th>2</th>\n",
       "      <td>i1W2HuGT5L</td>\n",
       "      <td>Eszter Decaf 11/16</td>\n",
       "      <td>2024/11/16 07:58:00</td>\n",
       "      <td>99.944443</td>\n",
       "      <td>4.75</td>\n",
       "      <td>4</td>\n",
       "      <td>Shook the cone, still no flat coffee bed and h...</td>\n",
       "      <td>137</td>\n",
       "      <td>2.54</td>\n",
       "      <td>249.500000</td>\n",
       "      <td>0.00;3.60;6.40;8.30;9.20;10.60;11.10;12.80;14....</td>\n",
       "    </tr>\n",
       "    <tr>\n",
       "      <th>3</th>\n",
       "      <td>AbIpCcl3sG</td>\n",
       "      <td>Klean kanteen v01</td>\n",
       "      <td>2024/11/15 13:23:42</td>\n",
       "      <td>99.944443</td>\n",
       "      <td>4.75</td>\n",
       "      <td>4</td>\n",
       "      <td>Probably more acidic or metallic tasting by vi...</td>\n",
       "      <td>151</td>\n",
       "      <td>1.66</td>\n",
       "      <td>245.500000</td>\n",
       "      <td>0.00;5.30;10.20;11.10;14.00;15.40;16.10;17.70;...</td>\n",
       "    </tr>\n",
       "  </tbody>\n",
       "</table>\n",
       "</div>"
      ],
      "text/plain": [
       "           id                                  name            createdAt  \\\n",
       "0  Z5Jq2aIggm  Louis Afternoon Hazelnut Roast 11/16  2024/11/16 14:04:11   \n",
       "1  IGZL6Mtfa7        Louis Morning Wien Roast 11/16  2024/11/16 08:08:44   \n",
       "2  i1W2HuGT5L                    Eszter Decaf 11/16  2024/11/16 07:58:00   \n",
       "3  AbIpCcl3sG                    Klean kanteen v01   2024/11/15 13:23:42   \n",
       "\n",
       "   temperature  grind  tasty  \\\n",
       "0    99.944443   4.75      4   \n",
       "1    99.944443   4.75      4   \n",
       "2    99.944443   4.75      4   \n",
       "3    99.944443   4.75      4   \n",
       "\n",
       "                                                note  total time  \\\n",
       "0  Many shakes of the cone, flat coffee bed at fi...         140   \n",
       "1                 Flat coffee bed with shaking cone          134   \n",
       "2  Shook the cone, still no flat coffee bed and h...         137   \n",
       "3  Probably more acidic or metallic tasting by vi...         151   \n",
       "\n",
       "   average flowrate  total weight  \\\n",
       "0              2.22    252.199997   \n",
       "1              2.34    280.000000   \n",
       "2              2.54    249.500000   \n",
       "3              1.66    245.500000   \n",
       "\n",
       "                                           brew data  \n",
       "0  0.00;6.10;11.80;12.80;14.90;17.50;18.50;20.60;...  \n",
       "1  0.00;5.30;8.70;10.90;13.30;15.40;16.00;17.79;1...  \n",
       "2  0.00;3.60;6.40;8.30;9.20;10.60;11.10;12.80;14....  \n",
       "3  0.00;5.30;10.20;11.10;14.00;15.40;16.10;17.70;...  "
      ]
     },
     "metadata": {},
     "output_type": "display_data"
    }
   ],
   "source": [
    "# Load the CSV file into a Pandas DataFrame and display it\n",
    "try:\n",
    "    df = pd.read_csv(csv_file_path)\n",
    "    print(\"DataFrame loaded successfully:\")\n",
    "    display(df)  # Use display() for a cleaner table format in Jupyter\n",
    "except Exception as e:\n",
    "    print(f\"An error occurred: {e}\")"
   ]
  },
  {
   "cell_type": "markdown",
   "metadata": {},
   "source": [
    "Notice that our **Pandas DataFrame** includes a number of **columns** that we can reference _by name_. The `brew data` column includes a list of total weight measurements as we add water to the coffee grounds. These are regularly sampled over the course of the `total time` duration of the entire brew, measured in seconds. We can use this to **calculate how often the weight measurements were taken** by the scale. It turns out these were sampled somewhere around 200 milliseconds, which isn't too good for musical precision..."
   ]
  },
  {
   "cell_type": "markdown",
   "metadata": {},
   "source": [
    " ## 5. Define Functions for Processing Input Coffee Data\n",
    " #### Here, we will create our own functions, sometimes calling _other_ functions within our own function definitions..."
   ]
  },
  {
   "cell_type": "code",
   "execution_count": 9,
   "metadata": {},
   "outputs": [],
   "source": [
    "# format time in milliseconds for MaxMSP `coll` file\n",
    "def format_time_milliseconds(seconds):\n",
    "    return int(seconds * 1000)  # Convert seconds to milliseconds\n",
    "\n",
    "# resample the data and create a new set of uniformly spaced time_points, weight measurements, and smoothed_flow_rates\n",
    "def resample_data(time_points, weights, smoothed_flow_rates, interval_ms):\n",
    "    # Convert the desired interval from milliseconds to seconds\n",
    "    interval_s = interval_ms / 1000  \n",
    "    # Generate a new set of evenly spaced time points, starting at 0 and ending slightly after the last time point\n",
    "    # np.arange() is a NumPy function that generates an array of evenly spaced values within a specified range with a fixed step size\n",
    "    # np.arange(start, stop, step, dtype=None)\n",
    "    new_time_points = np.arange(0, time_points[-1] + interval_s, interval_s)\n",
    "    # Interpolate the weights for the new time points\n",
    "    # np.interp() creates new data points by linear interpolation between the original time points\n",
    "    new_weights = np.interp(new_time_points, time_points, weights)\n",
    "    # Interpolate the smoothed flow rates for the new time points in the same way\n",
    "    new_flow_rates = np.interp(new_time_points, time_points, smoothed_flow_rates)\n",
    "    # Return the resampled time points, weights, and flow rates\n",
    "    return new_time_points, new_weights, new_flow_rates\n",
    "\n",
    "# calculate delta t (the change in time) in milliseconds\n",
    "# this is the difference in time between successive measurements\n",
    "def calculate_delta_t(time_points):\n",
    "    # The prepend=0 argument adds a 0 at the beginning for alignment with the original array length\n",
    "    # The np.diff() function returns differences between elements of a NumPy array (like x2dx in bach), used to find rates of change or differences in time.\n",
    "    delta_t = np.diff(time_points, prepend=0) * 1000  # Convert seconds to milliseconds\n",
    "    # Set the first entry to 0 because there's no previous measurement for the first time point\n",
    "    delta_t[0] = 0  \n",
    "    # Return the array of time differences (delta t) in milliseconds\n",
    "    return delta_t\n"
   ]
  },
  {
   "cell_type": "markdown",
   "metadata": {},
   "source": [
    "## 6. Define the Main Processing Function\n",
    "#### One big function to do the work, taking a number of arguments.\n",
    "#### The output_text_file function includes **calls** to our smaller functions, written above."
   ]
  },
  {
   "cell_type": "code",
   "execution_count": 10,
   "metadata": {},
   "outputs": [],
   "source": [
    "def output_text_file(csv_file_path, output_filename, row_index=0, resample_interval_ms=100):\n",
    "    try: # try allows us to throw an error, if anything does not process correctly, as an exception (see 'except' below)\n",
    "        df = pd.read_csv(csv_file_path) # Read the CSV file into a Pandas DataFrame\n",
    "        if row_index < 0 or row_index >= len(df):\n",
    "            print(f\"Invalid row index. There are {len(df)} rows in the file.\")\n",
    "            return\n",
    "        \n",
    "        row = df.iloc[row_index]\n",
    "            # Syntax: df.iloc[row_index, column_index]: used to access a specific row of a DataFrame by its integer index\n",
    "        total_time = float(row['total time'])  # get total time in seconds from the 'total time' column\n",
    "        brew_data = row['brew data'] # get brew data from the column called 'brew data'\n",
    "\n",
    "        # weights = [float(weight) for weight in brew_data.split(';') if weight.strip()]\n",
    "            \n",
    "            # if weight.strip() filters out any empty or whitespace-only entries from the list generated by split(';')\n",
    "            # float(weight) converts each valid, non-empty string from the filtered list into a floating-point number\n",
    "        weights = []\n",
    "        for weight in brew_data.split(';'):\n",
    "            # .split(';') splits the brew_data string into a list of substrings using the semicolon (;) as a delimiter\n",
    "            if weight.strip():  # Skip empty or whitespace-only strings\n",
    "                weights.append(float(weight))  # Convert valid strings to float and add to the list (append) \n",
    "\n",
    "        num_measurements = len(weights)\n",
    "\n",
    "        time_points = np.linspace(0, total_time, num_measurements)\n",
    "            # np.linspace() is a NumPy function that generates an array of evenly spaced numbers over a specified range. \n",
    "            # It is particularly useful when you need to divide an interval into a fixed number of steps.\n",
    "            # Here, we use it to divide the X axis (time) into evenly spaced time points according to the total_time variable.\n",
    "        flow_rates = np.diff(weights) / np.diff(time_points)\n",
    "        flow_rates = np.append(flow_rates, 0)  # Match length\n",
    "        smoothed_flow_rates = np.maximum(flow_rates, 0)\n",
    "        \n",
    "        resampled_time_points, resampled_weights, resampled_flow_rates = resample_data(\n",
    "            time_points, weights, smoothed_flow_rates, resample_interval_ms\n",
    "        )\n",
    "            # Here, we are using our resample_data function, defined in the block above.\n",
    "        delta_t = calculate_delta_t(resampled_time_points)\n",
    "            # Here, we are calling (using) our calculate_delta_t function, defined in the block above.\n",
    "        \n",
    "        # Write the output text file\n",
    "        with open(output_filename, 'w') as f:\n",
    "            for i, (time, dt, weight, flow) in enumerate(zip(resampled_time_points, delta_t, resampled_weights, resampled_flow_rates)):\n",
    "                f.write(f\"{i}, {format_time_milliseconds(time)} {int(dt)} {weight:.2f} {flow:.2f};\\n\")\n",
    "                    # Here, we are calling (using) our format_time_milliseconds function, defined in the block above.\n",
    "        \n",
    "        print(f\"Data saved as {output_filename}\")\n",
    "    except Exception as e:\n",
    "        print(f\"An error occurred: {e}\")"
   ]
  },
  {
   "cell_type": "markdown",
   "metadata": {},
   "source": [
    "## 7. Run the Function, Save the Ouput File"
   ]
  },
  {
   "cell_type": "code",
   "execution_count": 11,
   "metadata": {},
   "outputs": [
    {
     "name": "stdout",
     "output_type": "stream",
     "text": [
      "Data saved as coffeeData_maxColl_v01.txt\n"
     ]
    }
   ],
   "source": [
    "output_text_file(csv_file_path, output_filename, row_index, resample_interval_ms)"
   ]
  },
  {
   "cell_type": "markdown",
   "metadata": {},
   "source": [
    "$^{1}$This script is protected by CC BY-SA 4.0: Attribution-ShareAlike 4.0 International. Canonical URL: https://creativecommons.org/licenses/by-sa/4.0/"
   ]
  }
 ],
 "metadata": {
  "kernelspec": {
   "display_name": "Python 3 (ipykernel)",
   "language": "python",
   "name": "python3"
  },
  "language_info": {
   "codemirror_mode": {
    "name": "ipython",
    "version": 3
   },
   "file_extension": ".py",
   "mimetype": "text/x-python",
   "name": "python",
   "nbconvert_exporter": "python",
   "pygments_lexer": "ipython3",
   "version": "3.13.0"
  }
 },
 "nbformat": 4,
 "nbformat_minor": 4
}
