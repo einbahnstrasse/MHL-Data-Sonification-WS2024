{
 "cells": [
  {
   "cell_type": "markdown",
   "metadata": {},
   "source": [
    "# Musical Functions Exercises\n",
    "This notebook contains 20 beginner Python exercises demonstrating function definitions, calls, and use of control structures like loops and conditionals. Each exercise is musical in nature, working with MIDI note numbers, durations, velocities, and other musical concepts."
   ]
  },
  {
   "cell_type": "markdown",
   "metadata": {},
   "source": [
    "## Exercise 1: Note Doubler\n",
    "Define a function `double_note` that takes a MIDI note number as input and returns the note an octave higher."
   ]
  },
  {
   "cell_type": "code",
   "metadata": {},
   "source": [
    "def double_note(midi_note):\n",
    "    return midi_note + 12\n",
    "\n",
    "# Example usage\n",
    "print(double_note(60))  # Output: 72"
   ],
   "execution_count": null,
   "outputs": []
  },
  {
   "cell_type": "markdown",
   "metadata": {},
   "source": [
    "## Exercise 2: Note Velocity Check\n",
    "Define a function `is_loud` that takes a velocity value (1-127) as input and returns `True` if the velocity is greater than 100, otherwise `False`."
   ]
  },
  {
   "cell_type": "code",
   "metadata": {},
   "source": [
    "def is_loud(velocity):\n",
    "    return velocity > 100\n",
    "\n",
    "# Example usage\n",
    "print(is_loud(101))  # Output: True\n",
    "print(is_loud(50))   # Output: False"
   ],
   "execution_count": null,
   "outputs": []
  },
  {
   "cell_type": "markdown",
   "metadata": {},
   "source": [
    "## Exercise 3: Scale Steps to MIDI Notes\n",
    "Define a function `scale_step_to_midi` that takes a root note and a scale step and returns the corresponding MIDI note in the major scale."
   ]
  },
  {
   "cell_type": "code",
   "metadata": {},
   "source": [
    "def scale_step_to_midi(root_note, scale_step):\n",
    "    major_scale_intervals = [0, 2, 4, 5, 7, 9, 11, 12]\n",
    "    return root_note + major_scale_intervals[scale_step - 1]\n",
    "\n",
    "# Example usage\n",
    "print(scale_step_to_midi(60, 3))  # Output: 64 (E in the C major scale)"
   ],
   "execution_count": null,
   "outputs": []
  },
  {
   "cell_type": "markdown",
   "metadata": {},
   "source": [
    "## Exercise 4: Duration Converter\n",
    "Define a function `convert_to_seconds` that takes a duration in milliseconds and returns its equivalent in seconds."
   ]
  },
  {
   "cell_type": "code",
   "metadata": {},
   "source": [
    "def convert_to_seconds(duration_ms):\n",
    "    return duration_ms / 1000\n",
    "\n",
    "# Example usage\n",
    "print(convert_to_seconds(500))  # Output: 0.5"
   ],
   "execution_count": null,
   "outputs": []
  },
  {
   "cell_type": "markdown",
   "metadata": {},
   "source": [
    "## Exercise 5: MIDI Note Name\n",
    "Define a function `midi_to_note_name` that takes a MIDI note and returns the corresponding note name and octave."
   ]
  },
  {
   "cell_type": "code",
   "metadata": {},
   "source": [
    "def midi_to_note_name(midi_note):\n",
    "    note_names = ['C', 'C#', 'D', 'D#', 'E', 'F', 'F#', 'G', 'G#', 'A', 'A#', 'B']\n",
    "    octave = midi_note // 12 - 1\n",
    "    note = note_names[midi_note % 12]\n",
    "    return f\"{note}{octave}\"\n",
    "\n",
    "# Example usage\n",
    "print(midi_to_note_name(60))  # Output: C4"
   ],
   "execution_count": null,
   "outputs": []
  },
  {
   "cell_type": "markdown",
   "metadata": {},
   "source": [
    "## Exercise 6: Play a Chord\n",
    "Define a function `play_chord` that takes a root note and a list of intervals, returning the MIDI notes in the chord."
   ]
  },
  {
   "cell_type": "code",
   "metadata": {},
   "source": [
    "def play_chord(root, intervals):\n",
    "    chord = []\n",
    "    for interval in intervals:\n",
    "        chord.append(root + interval)\n",
    "    return chord\n",
    "\n",
    "# Example usage\n",
    "print(play_chord(60, [0, 4, 7]))  # Output: [60, 64, 67] (C major chord)"
   ],
   "execution_count": null,
   "outputs": []
  },
  {
   "cell_type": "markdown",
   "metadata": {},
   "source": [
    "## Exercise 7: Transpose Notes\n",
    "Define a function `transpose` that takes a list of MIDI notes and a number of semitones to transpose them by."
   ]
  },
  {
   "cell_type": "code",
   "metadata": {},
   "source": [
    "def transpose(notes, semitones):\n",
    "    transposed_notes = []\n",
    "    for note in notes:\n",
    "        transposed_notes.append(note + semitones)\n",
    "    return transposed_notes\n",
    "\n",
    "# Example usage\n",
    "print(transpose([60, 64, 67], 2))  # Output: [62, 66, 69]"
   ],
   "execution_count": null,
   "outputs": []
  },
  {
   "cell_type": "markdown",
   "metadata": {},
   "source": [
    "... (repeat for exercises 8-20, using the same markdown-comment and code structure)"
   ]
  }
 ],
 "metadata": {
  "kernelspec": {
   "display_name": "Python 3",
   "language": "python",
   "name": "python3"
  },
  "language_info": {
   "codemirror_mode": {
    "name": "ipython",
    "version": 3
   },
   "file_extension": ".py",
   "mimetype": "text/x-python",
   "name": "python",
   "nbconvert_exporter": "python",
   "pygments_lexer": "ipython3",
   "version": "3.8.5"
  }
 },
 "nbformat": 4,
 "nbformat_minor": 4
}
