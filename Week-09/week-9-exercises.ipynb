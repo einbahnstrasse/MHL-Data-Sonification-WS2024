{
 "cells": [
  {
   "cell_type": "markdown",
   "id": "5a924f45-cabf-4d69-b82c-e904454e69f2",
   "metadata": {},
   "source": [
    "# Week 9 Stuff\n",
    "This is my stuff from Week 9. "
   ]
  },
  {
   "cell_type": "markdown",
   "id": "07662538-f800-4f2d-92d0-cc791f768704",
   "metadata": {},
   "source": [
    "### Exercise #1. Note doubler. \n",
    "Double each note at the octave."
   ]
  },
  {
   "cell_type": "code",
   "execution_count": 1,
   "id": "9c877b8f-8caf-4483-b083-c569333ed7c8",
   "metadata": {},
   "outputs": [],
   "source": [
    "def double_note(midi_note):\n",
    "    return midi_note + 12"
   ]
  },
  {
   "cell_type": "code",
   "execution_count": 2,
   "id": "12974c9d-a717-4b05-8c1a-4dd5d88c9db6",
   "metadata": {},
   "outputs": [
    {
     "data": {
      "text/plain": [
       "72"
      ]
     },
     "execution_count": 2,
     "metadata": {},
     "output_type": "execute_result"
    }
   ],
   "source": [
    "double_note(60)"
   ]
  },
  {
   "cell_type": "code",
   "execution_count": 4,
   "id": "331c04f6-53df-4fe6-9c23-c840699b6bbd",
   "metadata": {},
   "outputs": [
    {
     "name": "stdout",
     "output_type": "stream",
     "text": [
      "72\n"
     ]
    }
   ],
   "source": [
    "print(double_note(60)) # <== the old way"
   ]
  },
  {
   "cell_type": "code",
   "execution_count": 5,
   "id": "405c2d74-6078-4a94-bdf1-a0776327f064",
   "metadata": {},
   "outputs": [
    {
     "data": {
      "text/plain": [
       "81"
      ]
     },
     "execution_count": 5,
     "metadata": {},
     "output_type": "execute_result"
    }
   ],
   "source": [
    "double_note(69)"
   ]
  },
  {
   "cell_type": "code",
   "execution_count": 9,
   "id": "bf2785e4-a5b8-4cc2-8ee3-c39dc7981e2d",
   "metadata": {},
   "outputs": [
    {
     "name": "stdout",
     "output_type": "stream",
     "text": [
      "13\n",
      "14\n",
      "15\n",
      "16\n",
      "17\n",
      "18\n",
      "19\n",
      "20\n",
      "21\n"
     ]
    }
   ],
   "source": [
    "for x in range(1, 10):\n",
    "    print(double_note(x))"
   ]
  },
  {
   "cell_type": "markdown",
   "id": "d979f51a-71a1-4693-8809-9de0fc79d6a9",
   "metadata": {},
   "source": [
    "### Exercise #2: Note velocity check"
   ]
  },
  {
   "cell_type": "code",
   "execution_count": 14,
   "id": "f322e972-a6ef-41f9-a74a-7a911d203162",
   "metadata": {},
   "outputs": [],
   "source": [
    "def is_loud(midi_velocity):\n",
    "    return midi_velocity > 10"
   ]
  },
  {
   "cell_type": "markdown",
   "id": "3e93a5fa-d643-4c6d-9a0b-c27332f9486d",
   "metadata": {},
   "source": [
    "What is this function doing?\n",
    "blah blah blah"
   ]
  },
  {
   "cell_type": "code",
   "execution_count": 12,
   "id": "0a890204-9e35-4ea0-804e-3f71f3eb1e04",
   "metadata": {},
   "outputs": [
    {
     "data": {
      "text/plain": [
       "True"
      ]
     },
     "execution_count": 12,
     "metadata": {},
     "output_type": "execute_result"
    }
   ],
   "source": [
    "is_loud(101) # expect the output to be: True"
   ]
  },
  {
   "cell_type": "code",
   "execution_count": 13,
   "id": "c9e88dda-1c57-4b6f-9cdb-7815aebfc750",
   "metadata": {},
   "outputs": [
    {
     "data": {
      "text/plain": [
       "False"
      ]
     },
     "execution_count": 13,
     "metadata": {},
     "output_type": "execute_result"
    }
   ],
   "source": [
    "is_loud(4) # expected: False"
   ]
  },
  {
   "cell_type": "markdown",
   "id": "b8eb26a5-736c-4e89-a633-d7a2e1d40980",
   "metadata": {},
   "source": [
    "### Exercise 3: turn scale steps into midi notes"
   ]
  },
  {
   "cell_type": "code",
   "execution_count": 27,
   "id": "718d1669-cadf-4453-9a29-e97ec51e02fa",
   "metadata": {},
   "outputs": [],
   "source": [
    "def scale_step_to_midi(root_note, scale_step):\n",
    "    major_scale_intervals = [0, 2, 4, 5, 7, 9, 11, 12]\n",
    "    return root_note + major_scale_intervals[scale_step - 1]"
   ]
  },
  {
   "cell_type": "markdown",
   "id": "3b9f65e1-bb4b-4c81-a997-88c83be98f61",
   "metadata": {},
   "source": [
    "What is going on here??\n",
    "define a function that takes 2 inputs\n",
    "inside the function, define an array of intervals\n",
    "compute: \n",
    "add to the root note the appropriate number of steps\n",
    "-1 due to indexing"
   ]
  },
  {
   "cell_type": "code",
   "execution_count": 16,
   "id": "122a43dc-4c0a-4eaf-a62b-30ed3a3be9f8",
   "metadata": {},
   "outputs": [
    {
     "data": {
      "text/plain": [
       "64"
      ]
     },
     "execution_count": 16,
     "metadata": {},
     "output_type": "execute_result"
    }
   ],
   "source": [
    "scale_step_to_midi(60, 3)"
   ]
  },
  {
   "cell_type": "markdown",
   "id": "ade4902d-7622-4429-99b9-7699d060fb6c",
   "metadata": {},
   "source": [
    "scale_step - 1\n",
    "this is an index value for an array\n",
    "so, 3 - 1 = 2 (the 2nd element of the array)\n",
    "the 2nd element of the array is 4\n",
    "root_note + 4 = 60 + 4 is what gives us 64"
   ]
  },
  {
   "cell_type": "code",
   "execution_count": 17,
   "id": "40754f23-9bf4-4240-8938-b0edfc6b7fd9",
   "metadata": {},
   "outputs": [],
   "source": [
    "major_scale_intervals = [0, 2, 4, 5, 7, 9, 11, 12]"
   ]
  },
  {
   "cell_type": "code",
   "execution_count": 22,
   "id": "09be3cd9-4cae-45dc-a27a-26e8dde89eb6",
   "metadata": {},
   "outputs": [
    {
     "data": {
      "text/plain": [
       "5"
      ]
     },
     "execution_count": 22,
     "metadata": {},
     "output_type": "execute_result"
    }
   ],
   "source": [
    "major_scale_intervals[3]"
   ]
  },
  {
   "cell_type": "code",
   "execution_count": 23,
   "id": "30b78b87-81fc-4fe7-9109-38223f1d9f7c",
   "metadata": {},
   "outputs": [
    {
     "data": {
      "text/plain": [
       "60"
      ]
     },
     "execution_count": 23,
     "metadata": {},
     "output_type": "execute_result"
    }
   ],
   "source": [
    "scale_step_to_midi(48, 8)"
   ]
  },
  {
   "cell_type": "markdown",
   "id": "3928fd48-8b17-466b-904d-f51ce7d07760",
   "metadata": {},
   "source": [
    "### Exercise #3A: adapting for MIDIcents (in bach)"
   ]
  },
  {
   "cell_type": "code",
   "execution_count": 28,
   "id": "b0c5956a-d492-4df7-bf63-845b776a4940",
   "metadata": {},
   "outputs": [],
   "source": [
    "def scale_step_to_midicents(root_note_cents, scale_step):\n",
    "    major_scale_intervals = [0, 2, 4, 5, 7, 9, 11, 12]\n",
    "    return root_note_cents + (major_scale_intervals[scale_step - 1] * 100)"
   ]
  },
  {
   "cell_type": "code",
   "execution_count": 29,
   "id": "fbb89c9b-5631-4c0b-ad67-1941fe956f04",
   "metadata": {},
   "outputs": [
    {
     "data": {
      "text/plain": [
       "6200"
      ]
     },
     "execution_count": 29,
     "metadata": {},
     "output_type": "execute_result"
    }
   ],
   "source": [
    "scale_step_to_midicents(6000, 2)"
   ]
  },
  {
   "cell_type": "code",
   "execution_count": 30,
   "id": "88642820-324f-40cd-848d-1878d87d2dbb",
   "metadata": {},
   "outputs": [
    {
     "data": {
      "text/plain": [
       "6225"
      ]
     },
     "execution_count": 30,
     "metadata": {},
     "output_type": "execute_result"
    }
   ],
   "source": [
    "scale_step_to_midicents(6025, 2)"
   ]
  },
  {
   "cell_type": "markdown",
   "id": "17d9fa4a-3103-445f-9628-4a8303c73cf7",
   "metadata": {},
   "source": [
    "### Exercise 4: midi_to_note_name(midi_note)"
   ]
  },
  {
   "cell_type": "code",
   "execution_count": 38,
   "id": "039efec0-4d47-4e9b-9ad0-9ea609651444",
   "metadata": {},
   "outputs": [],
   "source": [
    "def midi_to_note_name(midi_note):\n",
    "    note_names = [\"C\", \"C#\", \"D\", \"Eb\", \"E\", \"F\", \"F#\", \"G\", \"G#\", \"A\", \"A#\", \"B\"]\n",
    "    octave = midi_note // 12 - 1 - 1\n",
    "    note = note_names[midi_note % 12]\n",
    "    return f\"{note}{octave}\""
   ]
  },
  {
   "cell_type": "code",
   "execution_count": 39,
   "id": "6149fd4b-7cbb-4548-8fdf-05d418b2a0a8",
   "metadata": {},
   "outputs": [
    {
     "data": {
      "text/plain": [
       "'C3'"
      ]
     },
     "execution_count": 39,
     "metadata": {},
     "output_type": "execute_result"
    }
   ],
   "source": [
    "midi_to_note_name(60)"
   ]
  },
  {
   "cell_type": "markdown",
   "id": "6e00d018-e085-4284-8d3c-ade9f48d238a",
   "metadata": {},
   "source": [
    "f\"{note} {octave}\"\n",
    "f\" means it's an f string, or a concatenation of strings\n",
    "another way: str(note + octave)"
   ]
  },
  {
   "cell_type": "markdown",
   "id": "036c7579-1976-4199-ad90-412dea95c75c",
   "metadata": {},
   "source": [
    "### Exercise 5: Dynamic expression based on velocity"
   ]
  },
  {
   "cell_type": "code",
   "execution_count": 48,
   "id": "f3bc3985-e2e4-4969-9683-df0ddbe1f9d1",
   "metadata": {},
   "outputs": [],
   "source": [
    "def dynamic_expression(velocity):\n",
    "    if 1 <= velocity <= 20:\n",
    "        return \"pp\"\n",
    "    elif 21 <= velocity <= 50:\n",
    "        return \"p\"\n",
    "    elif 51 <= velocity <= 80:\n",
    "        return \"mp\"\n",
    "    elif 81 <= velocity <= 110:\n",
    "        return \"mf\"\n",
    "    elif 111 <= velocity <= 120:\n",
    "        return \"f\"\n",
    "    elif 121 <= velocity <= 127:\n",
    "        return \"ff\"\n",
    "    else:\n",
    "        # return \"DANGER! Invalid velocity!\"\n",
    "        return 0"
   ]
  },
  {
   "cell_type": "code",
   "execution_count": 49,
   "id": "4fb3de8a-d10e-49fd-9cc0-71262b98e3e8",
   "metadata": {},
   "outputs": [
    {
     "name": "stdout",
     "output_type": "stream",
     "text": [
      "0\n"
     ]
    }
   ],
   "source": [
    "# print(dynamic_expression(15))\n",
    "# print(dynamic_expression(60))\n",
    "# print(dynamic_expression(125))\n",
    "print(dynamic_expression(600))"
   ]
  },
  {
   "cell_type": "code",
   "execution_count": null,
   "id": "c8885596-e62c-49bc-be11-dcd607f3794e",
   "metadata": {},
   "outputs": [],
   "source": []
  }
 ],
 "metadata": {
  "kernelspec": {
   "display_name": "Python 3 (ipykernel)",
   "language": "python",
   "name": "python3"
  },
  "language_info": {
   "codemirror_mode": {
    "name": "ipython",
    "version": 3
   },
   "file_extension": ".py",
   "mimetype": "text/x-python",
   "name": "python",
   "nbconvert_exporter": "python",
   "pygments_lexer": "ipython3",
   "version": "3.13.0"
  }
 },
 "nbformat": 4,
 "nbformat_minor": 5
}
